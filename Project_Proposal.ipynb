{
 "cells": [
  {
   "cell_type": "markdown",
   "metadata": {},
   "source": [
    "# COGS 118B - Positional Analysis using Clustering models on FIFA(the video game) dataset"
   ]
  },
  {
   "cell_type": "markdown",
   "metadata": {},
   "source": [
    "# Names\n",
    "\n",
    "Hopefully your team is at least this good.\n",
    "\n",
    "- Kavin G Raj\n",
    "- Michael Daoud \n",
    "- Shay Samat\n",
    "- Hyun Choi\n",
    "- Akhil Vasanth\n"
   ]
  },
  {
   "cell_type": "markdown",
   "metadata": {},
   "source": [
    "# Abstract \n",
    "We have accumulated data from the hit video game series EA FIFA now known as EAFC. Using the data from the game, our goal is to see if we can use the clustering methods learned in the course to group players based on several performance statistics and test how well the model was able to differentiate player positions. With data collected from the video game we will be conducting clustering models.\n"
   ]
  },
  {
   "cell_type": "markdown",
   "metadata": {},
   "source": []
  },
  {
   "cell_type": "markdown",
   "metadata": {},
   "source": [
    "# Background\n",
    "\n",
    "Prior work has shown that clustering in sports research has been used commonly to investigate many problems in sports. Clustering is used so often because members of the same cluster are likely to have similar responses than members of a different cluster, and it is often easier to sample from clusters of individuals, such as sports teams, instead of individuals<a name=\"hayen\"></a>[<sup>[1]</sup>](#hayennote). There have been many projects and studies where clustering has been used to analyze player data and determine the positions of players based on their clusters. Clustering methods like partition clustering has been used to cluster soccer players based on their performance data to analyze the composition of teams and find players similar to other given players <a name=\"akhanli\"></a>[<sup>[2]</sup>](#akhanlinote). Additionally, techniques like K-Means Clustering and Model Based Clustering have been used to identify new, unique clusters of NBA players that are more informative than standard player positions <a name=\"stern\"></a>[<sup>[3]</sup>](#sternnote). Due to the prevalence of clustering in sport our project would allow people to easily filter and discriminate between players based on their performance to see what type of player they want. \n"
   ]
  },
  {
   "cell_type": "markdown",
   "metadata": {},
   "source": [
    "# Problem Statement\n",
    "\n",
    "Soccer is a very fluid game, making it hard to determine players position with just stats. Our problem is, how accurately can player statistics in the game predict the position of a player based on its similarity to other players? \n"
   ]
  },
  {
   "cell_type": "markdown",
   "metadata": {},
   "source": [
    "# Data\n",
    "\n",
    "Data: https://www.kaggle.com/datasets/stefanoleone992/ea-sports-fc-24-complete-player-dataset?select=male_players.csv\n",
    "\n",
    "Initials Size of Dataset:  109 Variables, 180021 Observations\n",
    "\n",
    "Each dataset consists of name, club, nationality, preferred foot, attack stats, defending stats, dribbling stats, goalie stats,mentality, DOB,  etc. for every player who was in the FIFA video game from 2014 to 2024. The critical values would be all the attack, defender, and dribbling stats which are written as a number from a 0-100. Each of these mentioned stats has a more specific stat for each action. For example attack would have attack_crossing, attack_finishing, attack_shortpassing.There are a lot of extra columns such as nationality, club jersey, league name, etc. We will remove some of these columns in the dataset. We also plan on just using FIFA 24, so we will remove any row that is not in Fifa 24. \n"
   ]
  },
  {
   "cell_type": "markdown",
   "metadata": {},
   "source": [
    "# Proposed Solution\n",
    "\n",
    "Our proposed solution is to use K-Means Clustering to group players into 4 clusters for goalies, defenders, midfielders, and attackers and evaluate the clusters by using silhouette scores and other evaluations metrics. We will also see how accurate the clusters are to clusters based on their actual positions by using an adjusted Rand index. We plan to use the scikit-learn library to implement the K-means clustering algorithm and to check the accuracy of clusters using the built in functions to calculate the Adjusted Rand Index and silhouette scores."
   ]
  },
  {
   "cell_type": "markdown",
   "metadata": {},
   "source": [
    "# Evaluation Metrics\n",
    "\n",
    "After obtaining clusters from K-means Clustering, we will assess the effectiveness of the clustering in grouping players based on performance statistics by utilizing Silhouette score. The Silhouette Score measures how similar a data point is to its own cluster in comparison to other clusters, with the score ranging from -1 to 1.\n",
    "Formula of the Silhouette Score <a name=\"akhanli\"></a>[<sup>[4]</sup>](#akhanlinote) :\n",
    "$s(i) = \\frac{b(i) - a(i)}{max(a(i), b(i))}$\n",
    "Where a(i) is the mean distance between a sample and all other points in the same class, and b(i) is the mean distance between a sample and all other points in the nearest cluster.\n",
    "\n",
    "\n",
    "Then, we will validate our clustering with the Adjusted Rand Index since cluster labels do not inherently represent the label and actual grouping, making direct validation challenging. The Adjusted Rand Index is used to compare the clusters formed by K-means clustering with the ground truth. In our case, this involves comparing the positions assigned to players within the clusters against their actual position. Importantly, the ARI <a name=\"stern\"></a>[<sup>[5]</sup>](#sternnote) also accounts for the possibility that some agreement between the clustering and the ground truth could happen just by chance. At the end, ARI provides a score between -1 and 1.\n",
    "\n",
    "Adjusted Rand Index:\n",
    "\n",
    "\n",
    "$$\n",
    "\\text{ARI} = \\frac{\\sum_{ij} \\binom{n_{ij}}{2} - \\left[ \\sum_i \\binom{a_i}{2} \\sum_j \\binom{b_j}{2} \\right] / \\binom{n}{2}}{\\frac{1}{2} \\left[ \\sum_i \\binom{a_i}{2} + \\sum_j \\binom{b_j}{2} \\right] - \\left[ \\sum_i \\binom{a_i}{2} \\sum_j \\binom{b_j}{2} \\right] / \\binom{n}{2}}\n",
    "$$\n",
    "\n",
    "\n",
    "where:\n",
    "- $n_{ij}$ is the number of objects in both cluster $i$ and cluster $j$.\n",
    "- $a_i$ is the number of objects in cluster $i$.\n",
    "- $b_j$ is the number of objects in cluster $j$.\n",
    "- $n$ is the total number of objects.\n",
    "- $\\binom{x}{2} = \\frac{x(x-1)}{2}$ represents the binomial coefficient, i.e., the number of pairs that can be formed from $x$ items.  \n",
    "\n",
    "\n",
    "\n",
    "By utilizing the Silhouette Score, we can internally validate the quality of the K-Mean Clustering and can externally validate the K-Mean Clustering using Adjusted Rand Index, comparing the formed clusters against the ground truth of the player's positions. This evaluation comprehensively captures the performance of our unsupervised learning algorithm in predicting player positions based on performance statistics.\n"
   ]
  },
  {
   "cell_type": "markdown",
   "metadata": {},
   "source": [
    "# Ethics & Privacy"
   ]
  },
  {
   "cell_type": "markdown",
   "metadata": {},
   "source": [
    "Some ethical and privacy concerns to address would be to address not necessarily where our data was sourced from, but how it is used by EA Sports FC. The original data linked from Kaggle was from sofifa.com and has no copyright and a CC0:Public Domain license. SoFifa is a database used by EA Fifa/EAFC, and they calculate their stats based on different linear combinations of a player's main attributes. The privacy terms of image and name rights could be a concern from EA Sports. Sole ownership of image rights starts with the player, thereby prohibiting their exploitation without the player's explicit consent. When agreeing to be with a club, the player typically grants the club partial rights to their image, facilitating its incorporation into the club's marketing endeavors. If the player is selected to represent their national team, similar image rights are often extended to the national association.1 This falls more on EA Sports rather than the dataset in which we are using it for, however it is still important to address.\n"
   ]
  },
  {
   "cell_type": "markdown",
   "metadata": {},
   "source": [
    "# Team Expectations "
   ]
  },
  {
   "cell_type": "markdown",
   "metadata": {},
   "source": [
    "- Communicate effectively via Discord\n",
    "    - Who is pushing/pulling from github (Version Control)\n",
    "    - Set meeting times/locations\n",
    "- Show up to weekly meetings and notify members if you can’t make the meetings\n",
    "- Constructive feedback\n",
    "- Split tasks amongst each other and complete tasks in a timely manner"
   ]
  },
  {
   "cell_type": "markdown",
   "metadata": {},
   "source": [
    "# Project Timeline Proposal"
   ]
  },
  {
   "cell_type": "markdown",
   "metadata": {},
   "source": [
    "| Meeting Date  | Meeting Time| Completed Before Meeting  | Discuss at Meeting |\n",
    "|---|---|---|---|\n",
    "| 2/19  |  7 PM |  Brainstorm dataset, divide up tasks, briefly skim proposal | Finish project proposal, finalize dataset and question|\n",
    "| 2/26  |  3 PM | Familiarize yourself with Soccer positions/roles; Think about what variables to keep| Discuss what features would be most useful and why|\n",
    "| 3/3  | 3 PM  | Wrangle and clean the data; EDA | Find any patterns/trends through EDA that should be highlighted |\n",
    "| 3/5  | 3 PM  | Experiment with models and fine tuning |  Discuss any problems with models, what’s working and not working   |\n",
    "| 3/12  | 3 PM  |Get models to run efficiently | Discuss evaluation metrics |\n",
    "| 3/17  | 3 PM  | Complete evaluation metrics |Draft results/conclusion/discussion|\n",
    "| 3/19  | Before 11:59 PM  | Finish results/conclusion/discussion | Final group run-through;Turn in Final Project before deadline  |\n"
   ]
  },
  {
   "cell_type": "markdown",
   "metadata": {},
   "source": [
    "# Footnotes\n",
    "\n",
    "<a name=\"hayennote\"></a>1.[^](#hayen): Hayen, A. “Clustered data in sports research.” Journal of Science and Medicine in Sport, vol. 9, no. 1–2, May 2006, pp. 165–168, https://doi.org/10.1016/j.jsams.2006.02.003.<br>\n",
    "<a name=\"akhanlinote\"></a>2.[^](#akhanli): Akhanli, Serhat Emre, and Christian Hennig. “Clustering of football players based on performance data and aggregated clustering validity indexes.” Journal of Quantitative Analysis in Sports, vol. 19, no. 2, 16 May 2023, pp. 103–123, https://doi.org/10.1515/jqas-2022-0037.<br> \n",
    "<a name=\"sternnote\"></a>3.[^](#stern): Stern, Alex \"Clustering NBA Player Types: A Tutorial on K-Means, Gaussian Mixture Models, Principal Component Analysis, and Graphical Networks\", https://alexcstern.github.io/hoopDown.html\n",
    "<a name=\"akhanlinote\"></a>4.[^](#akhanli): Akhanli, Serhat Emre, and Christian Hennig. “Clustering of football players based on performance data and aggregated clustering validity indexes.” Journal of Quantitative Analysis in Sports, vol. 19, no. 2, 16 May 2023, pp. 103–123, https://doi.org/10.1515/jqas-2022-0037.<br> \n",
    "<a name=\"sternnote\"></a>5.[^](#stern): Stern, Alex \"Clustering NBA Player Types: A Tutorial on K-Means, Gaussian Mixture Models, Principal Component Analysis, and Graphical Networks\", https://alexcstern.github.io/hoopDown.html\n"
   ]
  },
  {
   "cell_type": "markdown",
   "metadata": {},
   "source": []
  }
 ],
 "metadata": {
  "kernelspec": {
   "display_name": "Python 3 (ipykernel)",
   "language": "python",
   "name": "python3"
  },
  "language_info": {
   "codemirror_mode": {
    "name": "ipython",
    "version": 3
   },
   "file_extension": ".py",
   "mimetype": "text/x-python",
   "name": "python",
   "nbconvert_exporter": "python",
   "pygments_lexer": "ipython3",
   "version": "3.9.5"
  }
 },
 "nbformat": 4,
 "nbformat_minor": 2
}
